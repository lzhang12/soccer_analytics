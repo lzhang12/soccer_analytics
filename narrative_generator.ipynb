{
 "cells": [
  {
   "cell_type": "markdown",
   "metadata": {},
   "source": [
    "# Narrative Generator\n",
    "\n",
    "From the events Wyscout dataset https://figshare.com/collections/Soccer_match_event_dataset/4415000/5, we can write a simple narrative generator to see what's happening during the game in a more natural way. It also helps understand the meaning of the event data, such as eventName, tags etc, especially if you can compare the narrative with the match video."
   ]
  },
  {
   "cell_type": "code",
   "execution_count": 1,
   "metadata": {},
   "outputs": [],
   "source": [
    "# load some packages\n",
    "%load_ext autoreload\n",
    "%autoreload 2\n",
    "\n",
    "import matplotlib.pyplot as plt\n",
    "import numpy as np\n",
    "import json\n",
    "import pandas as pd\n",
    "import os\n",
    "\n",
    "from utils import wyscout # package to deal with wyscout data"
   ]
  },
  {
   "cell_type": "code",
   "execution_count": 2,
   "metadata": {},
   "outputs": [
    {
     "output_type": "execute_result",
     "data": {
      "text/plain": "   eventId subEventName            tags  playerId  \\\n0        8  Simple pass  [{'id': 1801}]     25413   \n1        8    High pass  [{'id': 1801}]    370224   \n2        8    Head pass  [{'id': 1801}]      3319   \n3        8    Head pass  [{'id': 1801}]    120339   \n4        8  Simple pass  [{'id': 1801}]    167145   \n\n                                  positions  matchId eventName  teamId  \\\n0  [{'y': 49, 'x': 49}, {'y': 78, 'x': 31}]  2499719      Pass    1609   \n1  [{'y': 78, 'x': 31}, {'y': 75, 'x': 51}]  2499719      Pass    1609   \n2  [{'y': 75, 'x': 51}, {'y': 71, 'x': 35}]  2499719      Pass    1609   \n3  [{'y': 71, 'x': 35}, {'y': 95, 'x': 41}]  2499719      Pass    1609   \n4  [{'y': 95, 'x': 41}, {'y': 88, 'x': 72}]  2499719      Pass    1609   \n\n  matchPeriod   eventSec subEventId         id  \n0          1H   2.758649         85  177959171  \n1          1H   4.946850         83  177959172  \n2          1H   6.542188         82  177959173  \n3          1H   8.143395         82  177959174  \n4          1H  10.302366         85  177959175  ",
      "text/html": "<div>\n<style scoped>\n    .dataframe tbody tr th:only-of-type {\n        vertical-align: middle;\n    }\n\n    .dataframe tbody tr th {\n        vertical-align: top;\n    }\n\n    .dataframe thead th {\n        text-align: right;\n    }\n</style>\n<table border=\"1\" class=\"dataframe\">\n  <thead>\n    <tr style=\"text-align: right;\">\n      <th></th>\n      <th>eventId</th>\n      <th>subEventName</th>\n      <th>tags</th>\n      <th>playerId</th>\n      <th>positions</th>\n      <th>matchId</th>\n      <th>eventName</th>\n      <th>teamId</th>\n      <th>matchPeriod</th>\n      <th>eventSec</th>\n      <th>subEventId</th>\n      <th>id</th>\n    </tr>\n  </thead>\n  <tbody>\n    <tr>\n      <th>0</th>\n      <td>8</td>\n      <td>Simple pass</td>\n      <td>[{'id': 1801}]</td>\n      <td>25413</td>\n      <td>[{'y': 49, 'x': 49}, {'y': 78, 'x': 31}]</td>\n      <td>2499719</td>\n      <td>Pass</td>\n      <td>1609</td>\n      <td>1H</td>\n      <td>2.758649</td>\n      <td>85</td>\n      <td>177959171</td>\n    </tr>\n    <tr>\n      <th>1</th>\n      <td>8</td>\n      <td>High pass</td>\n      <td>[{'id': 1801}]</td>\n      <td>370224</td>\n      <td>[{'y': 78, 'x': 31}, {'y': 75, 'x': 51}]</td>\n      <td>2499719</td>\n      <td>Pass</td>\n      <td>1609</td>\n      <td>1H</td>\n      <td>4.946850</td>\n      <td>83</td>\n      <td>177959172</td>\n    </tr>\n    <tr>\n      <th>2</th>\n      <td>8</td>\n      <td>Head pass</td>\n      <td>[{'id': 1801}]</td>\n      <td>3319</td>\n      <td>[{'y': 75, 'x': 51}, {'y': 71, 'x': 35}]</td>\n      <td>2499719</td>\n      <td>Pass</td>\n      <td>1609</td>\n      <td>1H</td>\n      <td>6.542188</td>\n      <td>82</td>\n      <td>177959173</td>\n    </tr>\n    <tr>\n      <th>3</th>\n      <td>8</td>\n      <td>Head pass</td>\n      <td>[{'id': 1801}]</td>\n      <td>120339</td>\n      <td>[{'y': 71, 'x': 35}, {'y': 95, 'x': 41}]</td>\n      <td>2499719</td>\n      <td>Pass</td>\n      <td>1609</td>\n      <td>1H</td>\n      <td>8.143395</td>\n      <td>82</td>\n      <td>177959174</td>\n    </tr>\n    <tr>\n      <th>4</th>\n      <td>8</td>\n      <td>Simple pass</td>\n      <td>[{'id': 1801}]</td>\n      <td>167145</td>\n      <td>[{'y': 95, 'x': 41}, {'y': 88, 'x': 72}]</td>\n      <td>2499719</td>\n      <td>Pass</td>\n      <td>1609</td>\n      <td>1H</td>\n      <td>10.302366</td>\n      <td>85</td>\n      <td>177959175</td>\n    </tr>\n  </tbody>\n</table>\n</div>"
     },
     "metadata": {},
     "execution_count": 2
    }
   ],
   "source": [
    "# load the dataset from https://figshare.com/collections/Soccer_match_event_dataset/4415000/5\n",
    "# wyscout.download_data()\n",
    "\n",
    "# use the Premier League as an example\n",
    "dirname = './data/Wyscout/events'\n",
    "fn = os.path.join(dirname, 'events_England.json')\n",
    "season = '2017-2018'\n",
    "league = 'Premier League'\n",
    "\n",
    "# read in event data using pandas --> DataFrame\n",
    "df_events = pd.read_json(fn)\n",
    "df_events.head()"
   ]
  },
  {
   "cell_type": "code",
   "execution_count": 3,
   "metadata": {},
   "outputs": [
    {
     "output_type": "execute_result",
     "data": {
      "text/plain": "     status  roundId  gameweek  \\\n349  Played  4405654         4   \n\n                                             teamsData  seasonId  \\\n349  {'1612': {'scoreET': 0, 'coachId': 14791, 'sid...    181150   \n\n                 dateutc  winner           venue     wyId  \\\n349  2017-09-09 11:30:00    1625  Etihad Stadium  2499754   \n\n                                  label  \\\n349  Manchester City - Liverpool, 5 - 0   \n\n                                      date  \\\n349  September 9, 2017 at 1:30:00 PM GMT+2   \n\n                                              referees duration  competitionId  \n349  [{'refereeId': 381851, 'role': 'referee'}, {'r...  Regular            364  ",
      "text/html": "<div>\n<style scoped>\n    .dataframe tbody tr th:only-of-type {\n        vertical-align: middle;\n    }\n\n    .dataframe tbody tr th {\n        vertical-align: top;\n    }\n\n    .dataframe thead th {\n        text-align: right;\n    }\n</style>\n<table border=\"1\" class=\"dataframe\">\n  <thead>\n    <tr style=\"text-align: right;\">\n      <th></th>\n      <th>status</th>\n      <th>roundId</th>\n      <th>gameweek</th>\n      <th>teamsData</th>\n      <th>seasonId</th>\n      <th>dateutc</th>\n      <th>winner</th>\n      <th>venue</th>\n      <th>wyId</th>\n      <th>label</th>\n      <th>date</th>\n      <th>referees</th>\n      <th>duration</th>\n      <th>competitionId</th>\n    </tr>\n  </thead>\n  <tbody>\n    <tr>\n      <th>349</th>\n      <td>Played</td>\n      <td>4405654</td>\n      <td>4</td>\n      <td>{'1612': {'scoreET': 0, 'coachId': 14791, 'sid...</td>\n      <td>181150</td>\n      <td>2017-09-09 11:30:00</td>\n      <td>1625</td>\n      <td>Etihad Stadium</td>\n      <td>2499754</td>\n      <td>Manchester City - Liverpool, 5 - 0</td>\n      <td>September 9, 2017 at 1:30:00 PM GMT+2</td>\n      <td>[{'refereeId': 381851, 'role': 'referee'}, {'r...</td>\n      <td>Regular</td>\n      <td>364</td>\n    </tr>\n  </tbody>\n</table>\n</div>"
     },
     "metadata": {},
     "execution_count": 3
    }
   ],
   "source": [
    "# matchId = np.random.choice(df_events['matchId'].unique()) # randomly extract a match\n",
    "matchId = 2499754 # Man City - Man City, 5:0\n",
    "match_events = df_events[df_events.matchId==matchId]\n",
    "\n",
    "# get some match information\n",
    "matchfile = './data/Wyscout/matches/matches_England.json'\n",
    "df_match = pd.read_json(matchfile)\n",
    "df_match[df_match['wyId']==matchId]"
   ]
  },
  {
   "cell_type": "code",
   "execution_count": 4,
   "metadata": {},
   "outputs": [
    {
     "output_type": "execute_result",
     "data": {
      "text/plain": "       eventId subEventName            tags  playerId  \\\n56750        8  Simple pass  [{'id': 1801}]       116   \n56751        8  Simple pass  [{'id': 1801}]     14870   \n56752        8  Simple pass  [{'id': 1801}]    346101   \n56753        8  Simple pass  [{'id': 1801}]    120353   \n56754        8  Simple pass  [{'id': 1801}]       116   \n\n                                      positions  matchId eventName  teamId  \\\n56750  [{'y': 48, 'x': 50}, {'y': 55, 'x': 27}]  2499754      Pass    1612   \n56751  [{'y': 55, 'x': 27}, {'y': 79, 'x': 41}]  2499754      Pass    1612   \n56752  [{'y': 79, 'x': 41}, {'y': 67, 'x': 70}]  2499754      Pass    1612   \n56753  [{'y': 67, 'x': 70}, {'y': 87, 'x': 55}]  2499754      Pass    1612   \n56754  [{'y': 87, 'x': 55}, {'y': 95, 'x': 66}]  2499754      Pass    1612   \n\n      matchPeriod  eventSec subEventId         id       team  \\\n56750          1H  0.841815         85  185702706  Liverpool   \n56751          1H  2.864206         85  185702707  Liverpool   \n56752          1H  6.850935         85  185702711  Liverpool   \n56753          1H  8.040190         85  185757993  Liverpool   \n56754          1H  9.988902         85  185702722  Liverpool   \n\n                    player     taglist        time  \n56750         G. Wijnaldum  [Accurate]   (1, 0, 1)  \n56751             J. Matip  [Accurate]   (1, 0, 3)  \n56752  T. Alexander-Arnold  [Accurate]   (1, 0, 7)  \n56753        Mohamed Salah  [Accurate]   (1, 0, 8)  \n56754         G. Wijnaldum  [Accurate]  (1, 0, 10)  ",
      "text/html": "<div>\n<style scoped>\n    .dataframe tbody tr th:only-of-type {\n        vertical-align: middle;\n    }\n\n    .dataframe tbody tr th {\n        vertical-align: top;\n    }\n\n    .dataframe thead th {\n        text-align: right;\n    }\n</style>\n<table border=\"1\" class=\"dataframe\">\n  <thead>\n    <tr style=\"text-align: right;\">\n      <th></th>\n      <th>eventId</th>\n      <th>subEventName</th>\n      <th>tags</th>\n      <th>playerId</th>\n      <th>positions</th>\n      <th>matchId</th>\n      <th>eventName</th>\n      <th>teamId</th>\n      <th>matchPeriod</th>\n      <th>eventSec</th>\n      <th>subEventId</th>\n      <th>id</th>\n      <th>team</th>\n      <th>player</th>\n      <th>taglist</th>\n      <th>time</th>\n    </tr>\n  </thead>\n  <tbody>\n    <tr>\n      <th>56750</th>\n      <td>8</td>\n      <td>Simple pass</td>\n      <td>[{'id': 1801}]</td>\n      <td>116</td>\n      <td>[{'y': 48, 'x': 50}, {'y': 55, 'x': 27}]</td>\n      <td>2499754</td>\n      <td>Pass</td>\n      <td>1612</td>\n      <td>1H</td>\n      <td>0.841815</td>\n      <td>85</td>\n      <td>185702706</td>\n      <td>Liverpool</td>\n      <td>G. Wijnaldum</td>\n      <td>[Accurate]</td>\n      <td>(1, 0, 1)</td>\n    </tr>\n    <tr>\n      <th>56751</th>\n      <td>8</td>\n      <td>Simple pass</td>\n      <td>[{'id': 1801}]</td>\n      <td>14870</td>\n      <td>[{'y': 55, 'x': 27}, {'y': 79, 'x': 41}]</td>\n      <td>2499754</td>\n      <td>Pass</td>\n      <td>1612</td>\n      <td>1H</td>\n      <td>2.864206</td>\n      <td>85</td>\n      <td>185702707</td>\n      <td>Liverpool</td>\n      <td>J. Matip</td>\n      <td>[Accurate]</td>\n      <td>(1, 0, 3)</td>\n    </tr>\n    <tr>\n      <th>56752</th>\n      <td>8</td>\n      <td>Simple pass</td>\n      <td>[{'id': 1801}]</td>\n      <td>346101</td>\n      <td>[{'y': 79, 'x': 41}, {'y': 67, 'x': 70}]</td>\n      <td>2499754</td>\n      <td>Pass</td>\n      <td>1612</td>\n      <td>1H</td>\n      <td>6.850935</td>\n      <td>85</td>\n      <td>185702711</td>\n      <td>Liverpool</td>\n      <td>T. Alexander-Arnold</td>\n      <td>[Accurate]</td>\n      <td>(1, 0, 7)</td>\n    </tr>\n    <tr>\n      <th>56753</th>\n      <td>8</td>\n      <td>Simple pass</td>\n      <td>[{'id': 1801}]</td>\n      <td>120353</td>\n      <td>[{'y': 67, 'x': 70}, {'y': 87, 'x': 55}]</td>\n      <td>2499754</td>\n      <td>Pass</td>\n      <td>1612</td>\n      <td>1H</td>\n      <td>8.040190</td>\n      <td>85</td>\n      <td>185757993</td>\n      <td>Liverpool</td>\n      <td>Mohamed Salah</td>\n      <td>[Accurate]</td>\n      <td>(1, 0, 8)</td>\n    </tr>\n    <tr>\n      <th>56754</th>\n      <td>8</td>\n      <td>Simple pass</td>\n      <td>[{'id': 1801}]</td>\n      <td>116</td>\n      <td>[{'y': 87, 'x': 55}, {'y': 95, 'x': 66}]</td>\n      <td>2499754</td>\n      <td>Pass</td>\n      <td>1612</td>\n      <td>1H</td>\n      <td>9.988902</td>\n      <td>85</td>\n      <td>185702722</td>\n      <td>Liverpool</td>\n      <td>G. Wijnaldum</td>\n      <td>[Accurate]</td>\n      <td>(1, 0, 10)</td>\n    </tr>\n  </tbody>\n</table>\n</div>"
     },
     "metadata": {},
     "execution_count": 4
    }
   ],
   "source": [
    "# add extra informative columns\n",
    "# mapping teamId, playerId, tags to labels, and build time column with format (half, minute, sec)\n",
    "match_events = wyscout.add_event_cols(match_events, ['team', 'player', 'taglist', 'time'])\n",
    "match_events.head()"
   ]
  },
  {
   "cell_type": "code",
   "execution_count": 5,
   "metadata": {},
   "outputs": [
    {
     "output_type": "stream",
     "name": "stdout",
     "text": "57 EVENTS IN THIS PERIROD\n"
    },
    {
     "output_type": "execute_result",
     "data": {
      "text/plain": "['(1H) 00:01, G. Wijnaldum of Liverpool made simple pass (accurate) to J. Matip ',\n '(1H) 00:03, J. Matip of Liverpool made simple pass (accurate) to T. Alexander-Arnold ',\n '(1H) 00:07, T. Alexander-Arnold of Liverpool made simple pass (accurate) to Mohamed Salah ',\n '(1H) 00:08, Mohamed Salah of Liverpool made simple pass (accurate) to G. Wijnaldum ',\n '(1H) 00:10, G. Wijnaldum of Liverpool made simple pass (accurate) to T. Alexander-Arnold ',\n '(1H) 00:11, T. Alexander-Arnold of Liverpool made simple pass (accurate) to G. Wijnaldum ',\n '(1H) 00:12, G. Wijnaldum of Liverpool made simple pass (not accurate)  ',\n '(1H) 00:13, Fernandinho of Manchester City made simple pass (interception, accurate) to B. Mendy ',\n '(1H) 00:14, B. Mendy of Manchester City made simple pass (accurate) to Ederson ',\n '(1H) 00:18, Ederson of Manchester City made simple pass (accurate) to Fernandinho ',\n '(1H) 00:19, Fernandinho of Manchester City made simple pass (accurate) to N. Otamendi ',\n '(1H) 00:22, N. Otamendi of Manchester City made high pass (accurate) to S. Ag\\\\u00fcero ',\n '(1H) 00:24, S. Ag\\\\u00fcero of Manchester City made ground attacking duel (anticipation, neutral, accurate)  ',\n '(1H) 00:25, R. Klavan of Liverpool made air duel (won, accurate)  ',\n '(1H) 00:26, Fernandinho of Manchester City made head pass (interception, not accurate)  ',\n '(1H) 00:28, J. Henderson of Liverpool made simple pass (interception, accurate) to G. Wijnaldum ',\n '(1H) 00:31, G. Wijnaldum of Liverpool made simple pass (accurate) to T. Alexander-Arnold ',\n '(1H) 00:33, T. Alexander-Arnold of Liverpool made high pass (accurate) to R. Klavan ',\n '(1H) 00:38, R. Klavan of Liverpool made simple pass (accurate) to S. Man\\\\u00e9 ',\n '(1H) 00:39, S. Man\\\\u00e9 of Liverpool made simple pass (accurate) to Alberto Moreno ',\n '(1H) 00:42, Alberto Moreno of Liverpool made simple pass (accurate) to S. Mignolet ',\n '(1H) 00:47, S. Mignolet of Liverpool made simple pass (accurate) to T. Alexander-Arnold ',\n '(1H) 00:49, T. Alexander-Arnold of Liverpool made high pass (accurate) to Roberto Firmino ',\n '(1H) 00:53, Roberto Firmino of Liverpool made head pass (not accurate)  ',\n '(1H) 00:53, J. Stones of Manchester City made clearance (accurate)  ',\n '(1H) 00:55, G. Wijnaldum of Liverpool made ground loose ball duel (won, accurate)  ',\n '(1H) 00:55, J. Stones of Manchester City made ground loose ball duel (lost, not accurate)  ',\n '(1H) 00:58, Roberto Firmino of Liverpool made simple pass (accurate) to E. Can ',\n '(1H) 01:03, E. Can of Liverpool made simple pass (accurate) to Alberto Moreno ',\n '(1H) 01:08, Alberto Moreno of Liverpool made simple pass (accurate)  ',\n '(1H) 01:09, Fernandinho of Manchester City made ground defending duel (won, accurate)  ',\n '(1H) 01:09, Roberto Firmino of Liverpool made ground attacking duel (lost, not accurate)  ',\n '(1H) 01:11, Fernandinho of Manchester City made simple pass (not accurate)  ',\n '(1H) 01:13, J. Henderson of Liverpool made simple pass (interception, accurate) to G. Wijnaldum ',\n '(1H) 01:16, G. Wijnaldum of Liverpool made simple pass (accurate) to Mohamed Salah ',\n '(1H) 01:19, Mohamed Salah of Liverpool made simple pass (key pass, accurate) to Alberto Moreno ',\n '(1H) 01:20, Alberto Moreno of Liverpool made shot (left foot, blocked, not accurate)  ',\n '(1H) 01:23, N. Otamendi of Manchester City made touch (interception)  ',\n '(1H) 01:35,  ball out of the field   ',\n '(1H) 01:55, T. Alexander-Arnold of Liverpool made corner (high, accurate)  ',\n '(1H) 01:57, Ederson of Manchester City made touch   ',\n '(1H) 02:12, G. Wijnaldum of Liverpool made simple pass (accurate) to T. Alexander-Arnold ',\n '(1H) 02:13, T. Alexander-Arnold of Liverpool made simple pass (not accurate)  ',\n '(1H) 02:16, N. Otamendi of Manchester City made simple pass (interception, accurate) to David Silva ',\n '(1H) 02:17, David Silva of Manchester City made simple pass (accurate) to B. Mendy ',\n '(1H) 02:18, B. Mendy of Manchester City made simple pass (accurate) to Fernandinho ',\n '(1H) 02:20, Fernandinho of Manchester City made simple pass (accurate) to S. Ag\\\\u00fcero ',\n '(1H) 02:22, S. Ag\\\\u00fcero of Manchester City made touch   ',\n '(1H) 02:25, S. Ag\\\\u00fcero of Manchester City made simple pass (accurate) to K. Walker ',\n '(1H) 02:27, K. Walker of Manchester City made simple pass (accurate) to K. De Bruyne ',\n '(1H) 02:29, K. De Bruyne of Manchester City made smart pass (through, not accurate)  ',\n '(1H) 02:29, R. Klavan of Liverpool made touch (interception)  ',\n '(1H) 02:30, J. Henderson of Liverpool made simple pass (not accurate)  ',\n '(1H) 02:32, David Silva of Manchester City made simple pass (accurate) to K. Walker ',\n '(1H) 02:33, K. Walker of Manchester City made ground loose ball duel (won, accurate)  ',\n '(1H) 02:33, S. Man\\\\u00e9 of Liverpool made ground loose ball duel (lost, not accurate)  ',\n '(1H) 02:35, S. Man\\\\u00e9 of Liverpool made foul   ']"
     },
     "metadata": {},
     "execution_count": 5
    }
   ],
   "source": [
    "# filter the time window of the events, otherwise it will be about 1700 events\n",
    "filtered_events = wyscout.filter_events_by_time(match_events, half=1, minute_period=(0,3))\n",
    "# generate the narrative\n",
    "narrative = wyscout.generate_narrative(filtered_events)\n",
    "narrative"
   ]
  },
  {
   "cell_type": "code",
   "execution_count": 21,
   "metadata": {},
   "outputs": [
    {
     "output_type": "stream",
     "name": "stdout",
     "text": "57 EVENTS IN THIS PERIROD\n"
    },
    {
     "output_type": "execute_result",
     "data": {
      "text/plain": "['(1H) 21:00, E. Can of Liverpool made simple pass (accurate) to T. Alexander-Arnold ',\n '(1H) 21:03, T. Alexander-Arnold of Liverpool made simple pass (accurate) to Mohamed Salah ',\n '(1H) 21:05, Mohamed Salah of Liverpool made ground attacking duel (take on right, won, accurate)  ',\n '(1H) 21:06, N. Otamendi of Manchester City made ground defending duel (take on left, lost, not accurate)  ',\n '(1H) 21:10, Mohamed Salah of Liverpool made cross (left foot, not accurate)  ',\n '(1H) 21:13, Ederson of Manchester City made touch   ',\n '(1H) 21:28, J. Stones of Manchester City made simple pass (accurate) to Danilo ',\n '(1H) 21:33, Danilo of Manchester City made simple pass (accurate) to Fernandinho ',\n '(1H) 21:34, Fernandinho of Manchester City made simple pass (accurate) to Danilo ',\n '(1H) 21:35, Danilo of Manchester City made simple pass (accurate) to J. Stones ',\n '(1H) 21:39, J. Stones of Manchester City made simple pass (accurate) to Danilo ',\n '(1H) 21:42, Danilo of Manchester City made touch   ',\n '(1H) 21:46, Danilo of Manchester City made simple pass (accurate) to S. Ag\\\\u00fcero ',\n '(1H) 21:47, S. Ag\\\\u00fcero of Manchester City made simple pass (accurate) to K. Walker ',\n '(1H) 21:49, K. Walker of Manchester City made simple pass (accurate) to Danilo ',\n '(1H) 21:53, Danilo of Manchester City made simple pass (accurate) to N. Otamendi ',\n '(1H) 21:55, N. Otamendi of Manchester City made simple pass (accurate) to J. Stones ',\n '(1H) 21:56, J. Stones of Manchester City made simple pass (accurate) to N. Otamendi ',\n '(1H) 21:58, N. Otamendi of Manchester City made simple pass (accurate) to Fernandinho ',\n '(1H) 21:59, Fernandinho of Manchester City made simple pass (not accurate)  ',\n '(1H) 22:05,  ball out of the field   ',\n '(1H) 22:12, T. Alexander-Arnold of Liverpool made throw in (accurate)  ',\n '(1H) 22:13, G. Wijnaldum of Liverpool made high pass (accurate) to Mohamed Salah ',\n '(1H) 22:14, Mohamed Salah of Liverpool made simple pass (not accurate)  ',\n '(1H) 22:15, B. Mendy of Manchester City made simple pass (interception, accurate) to J. Stones ',\n '(1H) 22:16, J. Stones of Manchester City made ground loose ball duel (lost, not accurate)  ',\n '(1H) 22:17, S. Man\\\\u00e9 of Liverpool made ground loose ball duel (won, accurate)  ',\n '(1H) 22:18, J. Stones of Manchester City made ground defending duel (take on left, sliding tackle, lost, not accurate)  ',\n '(1H) 22:18, S. Man\\\\u00e9 of Liverpool made ground attacking duel (take on right, won, accurate)  ',\n '(1H) 22:23, S. Man\\\\u00e9 of Liverpool made ground attacking duel (won, accurate)  ',\n '(1H) 22:23, S. Man\\\\u00e9 of Liverpool made cross (right foot, not accurate)  ',\n '(1H) 22:24, B. Mendy of Manchester City made ground defending duel (won, accurate)  ',\n '(1H) 22:26, J. Stones of Manchester City made clearance (interception, not accurate)  ',\n '(1H) 22:38,  ball out of the field   ',\n '(1H) 22:53, Alberto Moreno of Liverpool made corner (high, accurate)  ',\n '(1H) 22:55, J. Matip of Liverpool made air duel (lost, not accurate)  ',\n '(1H) 22:55, N. Otamendi of Manchester City made clearance (interception, accurate)  ',\n '(1H) 22:55, J. Matip of Liverpool made air duel (won, accurate)  ',\n '(1H) 22:58, J. Henderson of Liverpool made shot (left foot, position: out high center, not accurate)  ',\n '(1H) 22:58, G. Wijnaldum of Liverpool made head pass (not accurate)  ',\n '(1H) 23:01, Mohamed Salah of Liverpool made offside   ',\n '(1H) 23:28, Ederson of Manchester City made free kick (accurate)  ',\n '(1H) 23:29, J. Stones of Manchester City made simple pass (accurate) to Ederson ',\n '(1H) 23:32, Ederson of Manchester City made simple pass (accurate) to Danilo ',\n '(1H) 23:35, Danilo of Manchester City made simple pass (accurate) to K. Walker ',\n '(1H) 23:37, K. Walker of Manchester City made simple pass (not accurate)  ',\n '(1H) 23:41, Alberto Moreno of Liverpool made simple pass (accurate) to R. Klavan ',\n '(1H) 23:46, R. Klavan of Liverpool made simple pass (accurate) to S. Mignolet ',\n '(1H) 23:48, S. Mignolet of Liverpool made launch (not accurate)  ',\n '(1H) 23:50, K. Walker of Manchester City made head pass (not accurate)  ',\n '(1H) 23:53, J. Henderson of Liverpool made head pass (accurate)  ',\n '(1H) 23:54, Fernandinho of Manchester City made ground loose ball duel (won, accurate)  ',\n '(1H) 23:54, G. Wijnaldum of Liverpool made ground loose ball duel (lost, not accurate)  ',\n '(1H) 23:55, Fernandinho of Manchester City made head pass (accurate) to K. De Bruyne ',\n '(1H) 23:57, K. De Bruyne of Manchester City made smart pass (assist, through, accurate)  ',\n '(1H) 23:58, S. Mignolet of Liverpool made ground defending duel (take on left, lost, not accurate)  ',\n '(1H) 23:59, S. Ag\\\\u00fcero of Manchester City made ground attacking duel (take on right, won, accurate)  ']"
     },
     "metadata": {},
     "execution_count": 21
    }
   ],
   "source": [
    "# Aguero scored the first goal, before that, Liverpool had a wave of attacks\n",
    "filtered_events = wyscout.filter_events_by_time(match_events, half=1, minute_period=(21,24))\n",
    "narrative = wyscout.generate_narrative(filtered_events)\n",
    "narrative"
   ]
  },
  {
   "cell_type": "markdown",
   "metadata": {},
   "source": [
    "You can check the youtube video for the same period here https://youtu.be/5g3bJqWRdIw?t=77.\n",
    "\n",
    "The narrative generated here still can be improved. For example,\n",
    "- tags can fits better into the sentence\n",
    "- different verbs for actions ('made Offside' does not sound good)"
   ]
  }
 ],
 "metadata": {
  "language_info": {
   "codemirror_mode": {
    "name": "ipython",
    "version": 3
   },
   "file_extension": ".py",
   "mimetype": "text/x-python",
   "name": "python",
   "nbconvert_exporter": "python",
   "pygments_lexer": "ipython3",
   "version": "3.8.2-final"
  },
  "orig_nbformat": 2,
  "kernelspec": {
   "name": "python38264bitds38condadd9b54eec7b04875a6bc324f2f32b4a4",
   "display_name": "Python 3.8.2 64-bit ('DS_38': conda)"
  }
 },
 "nbformat": 4,
 "nbformat_minor": 2
}